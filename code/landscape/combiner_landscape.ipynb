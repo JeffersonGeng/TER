{
 "cells": [
  {
   "cell_type": "code",
   "execution_count": 1,
   "metadata": {},
   "outputs": [],
   "source": [
    "import numpy as np\n",
    "import cv2\n",
    "import tensorflow as tf\n",
    "import os\n",
    "from tqdm import tqdm\n",
    "import re\n",
    "import matplotlib.pyplot as plt\n",
    "import gc"
   ]
  },
  {
   "cell_type": "code",
   "execution_count": 2,
   "metadata": {},
   "outputs": [
    {
     "name": "stderr",
     "output_type": "stream",
     "text": [
      " 44%|████▍     | 3129/7129 [50:07<1:04:05,  1.04it/s] \n"
     ]
    }
   ],
   "source": [
    "MSE_list_LAB = []\n",
    "MSE_list_RGB = []\n",
    "with tqdm(total=7129) as pbar:\n",
    "    for i in range(4000, 7129):\n",
    "        color = cv2.imread('E:/TER/landscape Images/color/'+str(i)+'.jpg')\n",
    "        color = cv2.resize(color, (256, 256))\n",
    "        color = cv2.cvtColor(color, cv2.COLOR_BGR2RGB)\n",
    "        gray = cv2.imread('E:/TER/landscape Images/gray/'+str(i)+'.jpg')\n",
    "        gray = cv2.resize(gray, (256, 256))\n",
    "        gray = cv2.cvtColor(gray, cv2.COLOR_BGR2RGB)\n",
    "        auto_rgb = cv2.imread('E:/TER/Result_autoencoder_landscape_RGB/output/'+str(i)+'.png')\n",
    "        auto_rgb = cv2.cvtColor(auto_rgb, cv2.COLOR_BGR2RGB)\n",
    "        auto_lab = cv2.imread('E:/TER/Result_autoencoder_landscape_LAB/output/'+str(i)+'.png')\n",
    "        auto_lab = cv2.cvtColor(auto_lab, cv2.COLOR_BGR2RGB)\n",
    "        pix_rgb = cv2.imread('E:/TER/Result_pix2pix_landscape_RGB/output/'+str(i)+'.png')\n",
    "        pix_rgb = cv2.cvtColor(pix_rgb, cv2.COLOR_BGR2RGB)\n",
    "        pix_lab = cv2.imread('E:/TER/Result_pix2pix_landscape_LAB/output/'+str(i)+'.png')\n",
    "        pix_lab = cv2.cvtColor(pix_lab, cv2.COLOR_BGR2RGB)\n",
    "\n",
    "        plt.figure(figsize=(36, 6))\n",
    "        plt.subplot(1, 6, 2)\n",
    "        plt.imshow(color)\n",
    "        plt.title('Original')\n",
    "        plt.axis('off')\n",
    "        plt.subplot(1, 6, 1)\n",
    "        plt.imshow(gray)\n",
    "        plt.title('Gray')\n",
    "        plt.axis('off')\n",
    "        plt.subplot(1, 6, 3)\n",
    "        plt.imshow(auto_rgb)\n",
    "        plt.title('Autoencoder RGB')\n",
    "        plt.axis('off')\n",
    "        plt.subplot(1, 6, 4)\n",
    "        plt.imshow(auto_lab)\n",
    "        plt.title('Autoencoder LAB')\n",
    "        plt.axis('off')\n",
    "        plt.subplot(1, 6, 5)\n",
    "        plt.imshow(pix_rgb)\n",
    "        plt.title('Pix2Pix RGB')\n",
    "        plt.axis('off')\n",
    "        plt.subplot(1, 6, 6)\n",
    "        plt.imshow(pix_lab)\n",
    "        plt.title('Pix2Pix LAB')\n",
    "        plt.axis('off')\n",
    "        plt.savefig('E:/TER/Result_landscape/16/'+str(i)+'.png')\n",
    "        plt.close()\n",
    "\n",
    "        plt.figure(figsize=(18, 12))\n",
    "        plt.subplot(2, 3, 4)\n",
    "        plt.imshow(color)\n",
    "        plt.title('Original')\n",
    "        plt.axis('off')\n",
    "        plt.subplot(2, 3, 1)\n",
    "        plt.imshow(gray)\n",
    "        plt.title('Gray')\n",
    "        plt.axis('off')\n",
    "        plt.subplot(2, 3, 2)\n",
    "        plt.imshow(auto_rgb)\n",
    "        plt.title('Autoencoder RGB')\n",
    "        plt.axis('off')\n",
    "        plt.subplot(2, 3, 3)\n",
    "        plt.imshow(auto_lab)\n",
    "        plt.title('Autoencoder LAB')\n",
    "        plt.axis('off')\n",
    "        plt.subplot(2, 3, 5)\n",
    "        plt.imshow(pix_rgb)\n",
    "        plt.title('Pix2Pix RGB')\n",
    "        plt.axis('off')\n",
    "        plt.subplot(2, 3, 6)\n",
    "        plt.imshow(pix_lab)\n",
    "        plt.title('Pix2Pix LAB')\n",
    "        plt.axis('off')\n",
    "        plt.savefig('E:/TER/Result_landscape/23/'+str(i)+'.png')\n",
    "        plt.close()\n",
    "        pbar.update(1)"
   ]
  },
  {
   "attachments": {},
   "cell_type": "markdown",
   "metadata": {},
   "source": [
    "plt.subplot(1, 2, 1)\n",
    "plt.plot(MSE_list_RGB)\n",
    "plt.title('MSE RGB: '+str(MSE_RGB))\n",
    "plt.subplot(1, 2, 2)\n",
    "plt.plot(MSE_list_LAB)\n",
    "plt.title('MSE LAB: '+str(MSE_LAB))\n",
    "plt.suptitle('MSE RGB vs MSE LAB')\n",
    "plt.savefig('E:/TER/Result_autoencoder_landscape/MSE.png')\n",
    "plt.show()\n",
    "plt.close()\n",
    "gc.collect()"
   ]
  }
 ],
 "metadata": {
  "kernelspec": {
   "display_name": "Python 3",
   "language": "python",
   "name": "python3"
  },
  "language_info": {
   "codemirror_mode": {
    "name": "ipython",
    "version": 3
   },
   "file_extension": ".py",
   "mimetype": "text/x-python",
   "name": "python",
   "nbconvert_exporter": "python",
   "pygments_lexer": "ipython3",
   "version": "3.9.13"
  },
  "orig_nbformat": 4
 },
 "nbformat": 4,
 "nbformat_minor": 2
}
