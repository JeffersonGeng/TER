{
 "cells": [
  {
   "cell_type": "code",
   "execution_count": 1,
   "metadata": {},
   "outputs": [],
   "source": [
    "import numpy as np\n",
    "import tensorflow as tf\n",
    "import keras\n",
    "import cv2\n",
    "from keras.layers import MaxPool2D,Conv2D,UpSampling2D,Input,Dropout\n",
    "from keras.models import Sequential\n",
    "from keras.utils import img_to_array, plot_model\n",
    "from keras.utils.vis_utils import plot_model\n",
    "import os\n",
    "from tqdm import tqdm\n",
    "import re\n",
    "import matplotlib.pyplot as plt\n",
    "import gc"
   ]
  },
  {
   "cell_type": "code",
   "execution_count": 2,
   "metadata": {},
   "outputs": [
    {
     "name": "stderr",
     "output_type": "stream",
     "text": [
      "100%|██████████| 7129/7129 [00:11<00:00, 629.83it/s]\n"
     ]
    },
    {
     "data": {
      "text/plain": [
       "9"
      ]
     },
     "execution_count": 2,
     "metadata": {},
     "output_type": "execute_result"
    }
   ],
   "source": [
    "def sorted_alphanumeric(data):  \n",
    "    convert = lambda text: int(text) if text.isdigit() else text.lower()\n",
    "    alphanum_key = lambda key: [convert(c) for c in re.split('([0-9]+)',key)]\n",
    "    return sorted(data,key = alphanum_key)\n",
    "# defining the size of the image\n",
    "SIZE = 256\n",
    "color_img = []\n",
    "gray_img = []\n",
    "path = 'E:/TER/landscape Images/color'\n",
    "files = os.listdir(path)\n",
    "files = sorted_alphanumeric(files)\n",
    "for i in tqdm(files):    \n",
    "        if i == '7200.jpg':\n",
    "            break\n",
    "        else:    \n",
    "            img = cv2.imread(path + '/'+i,1)\n",
    "            img = cv2.resize(img, (SIZE, SIZE))\n",
    "            # open cv reads images in BGR format so we have to convert it to LAB\n",
    "            img = cv2.cvtColor(img, cv2.COLOR_BGR2Lab)\n",
    "            #resizing image\n",
    "            #分离图像通道\n",
    "            l, a, b = cv2.split(img)\n",
    "            xx=b\n",
    "            #归一化\n",
    "            l = (l/ 255.0)\n",
    "            a = (a/ 255.0)\n",
    "            b = (b/ 255.0)\n",
    "            #合并通道\n",
    "            img = cv2.merge([l, a, b])\n",
    "            color_img.append(img_to_array(img))\n",
    "            gray_img.append(img_to_array(l))\n",
    "gc.collect()"
   ]
  },
  {
   "cell_type": "code",
   "execution_count": 3,
   "metadata": {},
   "outputs": [
    {
     "name": "stdout",
     "output_type": "stream",
     "text": [
      "Test color image shape (7129, 256, 256, 3)\n"
     ]
    }
   ],
   "source": [
    "test_gray_image = gray_img\n",
    "test_color_image = color_img\n",
    "del gray_img\n",
    "del color_img\n",
    "gc.collect()\n",
    "# reshaping\n",
    "test_gray_image = np.reshape(test_gray_image,(len(test_gray_image),SIZE,SIZE,1))\n",
    "test_color_image = np.reshape(test_color_image, (len(test_color_image),SIZE,SIZE,3))\n",
    "print('Test color image shape',test_color_image.shape)"
   ]
  },
  {
   "cell_type": "code",
   "execution_count": 4,
   "metadata": {},
   "outputs": [],
   "source": [
    "autoencoder_lab = keras.models.load_model('E:/TER/model/autoencoder_lab.h5')"
   ]
  },
  {
   "cell_type": "code",
   "execution_count": 5,
   "metadata": {},
   "outputs": [
    {
     "name": "stdout",
     "output_type": "stream",
     "text": [
      "56/56 [==============================] - 12s 101ms/step\n",
      "56/56 [==============================] - 3s 58ms/step\n",
      "56/56 [==============================] - 3s 58ms/step\n",
      "56/56 [==============================] - 6s 105ms/step\n"
     ]
    },
    {
     "name": "stderr",
     "output_type": "stream",
     "text": [
      " 28%|██▊       | 2029/7129 [07:25<18:38,  4.56it/s]\n"
     ]
    }
   ],
   "source": [
    "def plot_images(color,grayscale,predicted,n):\n",
    "    M = tf.keras.losses.MeanSquaredError()\n",
    "    MSE = M(color, predicted)\n",
    "    plt.figure(figsize=(15,5))\n",
    "    l, a, b = cv2.split(np.array(color))\n",
    "    #归一化\n",
    "    l = (l.astype('float32')* 100)\n",
    "    a = (a.astype('float32')* 255.0)-128\n",
    "    b = (b.astype('float32')* 255.0)-128\n",
    "    #合并通道\n",
    "    target_image = cv2.merge([l, a, b])  \n",
    "    l, a, b = cv2.split(np.array(predicted))\n",
    "    #归一化\n",
    "    l = (l.astype('float32')* 100)\n",
    "    a = (a.astype('float32')* 255.0)-128\n",
    "    b = (b.astype('float32')* 255.0)-128\n",
    "    #合并通道\n",
    "    prediction_image = cv2.merge([l, a, b])\n",
    "    target_image = cv2.cvtColor(target_image, cv2.COLOR_LAB2RGB)\n",
    "    prediction_image = cv2.cvtColor(prediction_image, cv2.COLOR_LAB2RGB)\n",
    "    display_list = [grayscale, target_image, prediction_image]\n",
    "    title = ['Input Image', 'Ground Truth', 'Predicted Image in LAB']\n",
    "    for i in range(3):\n",
    "        plt.subplot(1, 3, i+1)\n",
    "        plt.title(title[i])\n",
    "        plt.imshow(display_list[i],cmap='gray')\n",
    "        plt.axis('off')\n",
    "    plt.suptitle(\"MSE: \"+str(MSE.numpy()), fontsize = 20)\n",
    "    plt.imsave('E:/TER/Result_autoencoder_landscape_LAB/output/'+str(n)+'.png',prediction_image)\n",
    "    plt.savefig('E:/TER/Result_autoencoder_landscape_LAB/plot/'+str(n)+'.png')\n",
    "    plt.close()\n",
    "predicted = np.zeros((7129,SIZE, SIZE,3))\n",
    "predicted[:1782] = np.clip(autoencoder_lab.predict(test_gray_image[:1782].reshape(1782,SIZE, SIZE,1)),0.0,1.0).reshape(1782,SIZE, SIZE,3)\n",
    "predicted[1782:3564] = (np.clip(autoencoder_lab.predict(test_gray_image[1782:3564].reshape(1782,SIZE, SIZE,1)),0.0,1.0).reshape(1782,SIZE, SIZE,3))\n",
    "predicted[3564:5346] = (np.clip(autoencoder_lab.predict(test_gray_image[3564:5346].reshape(1782,SIZE, SIZE,1)),0.0,1.0).reshape(1782,SIZE, SIZE,3))\n",
    "predicted[5346:7129] = (np.clip(autoencoder_lab.predict(test_gray_image[5346:7129].reshape(1783,SIZE, SIZE,1)),0.0,1.0).reshape(1783,SIZE, SIZE,3))\n",
    "with tqdm(total=7129) as pbar: \n",
    "    for i in range(5100, 7129):\n",
    "        plot_images(test_color_image[i],test_gray_image[i],predicted[i],i)\n",
    "        pbar.update(1)"
   ]
  }
 ],
 "metadata": {
  "kernelspec": {
   "display_name": "Python 3",
   "language": "python",
   "name": "python3"
  },
  "language_info": {
   "codemirror_mode": {
    "name": "ipython",
    "version": 3
   },
   "file_extension": ".py",
   "mimetype": "text/x-python",
   "name": "python",
   "nbconvert_exporter": "python",
   "pygments_lexer": "ipython3",
   "version": "3.9.13"
  },
  "orig_nbformat": 4
 },
 "nbformat": 4,
 "nbformat_minor": 2
}
