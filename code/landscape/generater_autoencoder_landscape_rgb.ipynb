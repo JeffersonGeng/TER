{
 "cells": [
  {
   "cell_type": "code",
   "execution_count": 1,
   "metadata": {},
   "outputs": [],
   "source": [
    "import numpy as np\n",
    "import tensorflow as tf\n",
    "import keras\n",
    "import cv2\n",
    "from keras.layers import MaxPool2D,Conv2D,UpSampling2D,Input,Dropout\n",
    "from keras.models import Sequential\n",
    "from keras.utils import img_to_array, plot_model\n",
    "from keras.utils.vis_utils import plot_model\n",
    "import os\n",
    "from tqdm import tqdm\n",
    "import re\n",
    "import matplotlib.pyplot as plt\n",
    "import gc"
   ]
  },
  {
   "cell_type": "code",
   "execution_count": 2,
   "metadata": {},
   "outputs": [
    {
     "name": "stderr",
     "output_type": "stream",
     "text": [
      "100%|██████████| 7129/7129 [00:06<00:00, 1040.18it/s]\n",
      "100%|██████████| 7129/7129 [00:16<00:00, 431.69it/s]\n"
     ]
    }
   ],
   "source": [
    "def sorted_alphanumeric(data):  \n",
    "    convert = lambda text: int(text) if text.isdigit() else text.lower()\n",
    "    alphanum_key = lambda key: [convert(c) for c in re.split('([0-9]+)',key)]\n",
    "    return sorted(data,key = alphanum_key)\n",
    "# defining the size of the image\n",
    "SIZE = 256\n",
    "color_img = []\n",
    "path = 'E:/TER/landscape Images/color'\n",
    "files = os.listdir(path)\n",
    "files = sorted_alphanumeric(files)\n",
    "for i in tqdm(files):    \n",
    "    if i == '7129.jpg':\n",
    "        break\n",
    "    else:    \n",
    "        img = cv2.imread(path + '/'+i,1)\n",
    "        # open cv reads images in BGR format so we have to convert it to RGB\n",
    "        img = cv2.cvtColor(img, cv2.COLOR_BGR2RGB)\n",
    "        #resizing image\n",
    "        img = cv2.resize(img, (SIZE, SIZE))\n",
    "        img = img.astype('float32') / 255.0\n",
    "        color_img.append(img_to_array(img))\n",
    "\n",
    "\n",
    "gray_img = []\n",
    "path = 'E:/TER/landscape Images/gray'\n",
    "files = os.listdir(path)\n",
    "files = sorted_alphanumeric(files)\n",
    "for i in tqdm(files):\n",
    "     if i == '7129.jpg':\n",
    "        break\n",
    "     else: \n",
    "        img = cv2.imread(path + '/'+i,1)\n",
    "\n",
    "        #resizing image\n",
    "        img = cv2.resize(img, (SIZE, SIZE))\n",
    "        img = img.astype('float32') / 255.0\n",
    "        gray_img.append(img_to_array(img))"
   ]
  },
  {
   "cell_type": "code",
   "execution_count": 3,
   "metadata": {},
   "outputs": [],
   "source": [
    "test_gray_image = gray_img\n",
    "test_color_image = color_img\n",
    "del gray_img\n",
    "del color_img\n",
    "gc.collect()\n",
    "test_gray_image = np.reshape(test_gray_image,(len(test_gray_image),SIZE,SIZE,3))\n",
    "test_color_image = np.reshape(test_color_image, (len(test_color_image),SIZE,SIZE,3))"
   ]
  },
  {
   "cell_type": "code",
   "execution_count": 4,
   "metadata": {},
   "outputs": [],
   "source": [
    "autoencoder_rgb = keras.models.load_model('E:/TER/model/autoencoder_rgb.h5')"
   ]
  },
  {
   "cell_type": "code",
   "execution_count": 5,
   "metadata": {},
   "outputs": [
    {
     "name": "stdout",
     "output_type": "stream",
     "text": [
      "56/56 [==============================] - 16s 136ms/step\n",
      "56/56 [==============================] - 5s 81ms/step\n",
      "56/56 [==============================] - 5s 81ms/step\n",
      "56/56 [==============================] - 12s 157ms/step\n"
     ]
    },
    {
     "name": "stderr",
     "output_type": "stream",
     "text": [
      "  0%|          | 10/7129 [00:03<40:02,  2.96it/s] \n"
     ]
    }
   ],
   "source": [
    "def plot_images(color,grayscale,predicted,n):\n",
    "    \n",
    "    M = tf.keras.losses.MeanSquaredError()\n",
    "    MSE = M(color, predicted)\n",
    "    plt.figure(figsize=(15,5))\n",
    "    plt.subplot(1,3,1)\n",
    "    plt.title('Color Image')\n",
    "    plt.imshow(color)\n",
    "    plt.subplot(1,3,2)\n",
    "    plt.title('Grayscale Image ')\n",
    "    plt.imshow(grayscale)\n",
    "    plt.subplot(1,3,3)\n",
    "    plt.title('Predicted Image ')\n",
    "    plt.imshow(predicted)\n",
    "    plt.suptitle(\"MSE: \"+str(MSE.numpy()), fontsize = 20)\n",
    "    plt.imsave('E:/TER/Result_autoencoder_landscape_RGB/output/'+str(n)+\".png\",predicted)\n",
    "    plt.savefig('E:/TER/Result_autoencoder_landscape_RGB/plot/'+str(n)+\".png\")\n",
    "    plt.close()\n",
    "\n",
    "predicted = np.zeros((7129,SIZE, SIZE,3))\n",
    "predicted[:1782] = np.clip(autoencoder_rgb.predict(test_gray_image[:1782].reshape(1782,SIZE, SIZE,3)),0.0,1.0).reshape(1782,SIZE, SIZE,3)\n",
    "predicted[1782:3564] = (np.clip(autoencoder_rgb.predict(test_gray_image[1782:3564].reshape(1782,SIZE, SIZE,3)),0.0,1.0).reshape(1782,SIZE, SIZE,3))\n",
    "predicted[3564:5346] = (np.clip(autoencoder_rgb.predict(test_gray_image[3564:5346].reshape(1782,SIZE, SIZE,3)),0.0,1.0).reshape(1782,SIZE, SIZE,3))\n",
    "predicted[5346:7129] = (np.clip(autoencoder_rgb.predict(test_gray_image[5346:7129].reshape(1783,SIZE, SIZE,3)),0.0,1.0).reshape(1783,SIZE, SIZE,3))\n",
    "with tqdm(total=7129) as pbar: \n",
    "    for i in range(640,650):\n",
    "        plot_images(test_color_image[i],test_gray_image[i],predicted[i],i)\n",
    "        pbar.update(1)"
   ]
  }
 ],
 "metadata": {
  "kernelspec": {
   "display_name": "Python 3",
   "language": "python",
   "name": "python3"
  },
  "language_info": {
   "codemirror_mode": {
    "name": "ipython",
    "version": 3
   },
   "file_extension": ".py",
   "mimetype": "text/x-python",
   "name": "python",
   "nbconvert_exporter": "python",
   "pygments_lexer": "ipython3",
   "version": "3.9.13"
  },
  "orig_nbformat": 4
 },
 "nbformat": 4,
 "nbformat_minor": 2
}
