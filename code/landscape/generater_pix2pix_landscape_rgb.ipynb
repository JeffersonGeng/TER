{
 "cells": [
  {
   "cell_type": "code",
   "execution_count": 1,
   "metadata": {},
   "outputs": [],
   "source": [
    "import tensorflow as tf\n",
    "import keras \n",
    "from keras import layers\n",
    "import numpy as np\n",
    "from numba import cuda\n",
    "import matplotlib.pyplot as plt\n",
    "import cv2\n",
    "import os\n",
    "from tqdm import tqdm\n",
    "import re\n",
    "from keras.utils import img_to_array\n",
    "import gc"
   ]
  },
  {
   "cell_type": "code",
   "execution_count": 2,
   "metadata": {},
   "outputs": [
    {
     "name": "stderr",
     "output_type": "stream",
     "text": [
      "100%|██████████| 7129/7129 [00:18<00:00, 381.40it/s]\n",
      "100%|██████████| 7129/7129 [00:09<00:00, 759.30it/s] \n"
     ]
    },
    {
     "data": {
      "text/plain": [
       "9"
      ]
     },
     "execution_count": 2,
     "metadata": {},
     "output_type": "execute_result"
    }
   ],
   "source": [
    "def sorted_alphanumeric(data):  \n",
    "    convert = lambda text: int(text) if text.isdigit() else text.lower()\n",
    "    alphanum_key = lambda key: [convert(c) for c in re.split('([0-9]+)',key)]\n",
    "    return sorted(data,key = alphanum_key)\n",
    "# defining the size of the image\n",
    "SIZE = 256\n",
    "color_img = []\n",
    "path = 'E:/TER//landscape Images/color'\n",
    "files = os.listdir(path)\n",
    "files = sorted_alphanumeric(files)\n",
    "for i in tqdm(files):    \n",
    "        if i == '7200.jpg':\n",
    "            break\n",
    "        else:    \n",
    "            img = cv2.imread(path + '/'+i,1)\n",
    "            # open cv reads images in BGR format so we have to convert it to RGB\n",
    "            img = cv2.cvtColor(img, cv2.COLOR_BGR2RGB)\n",
    "            #resizing image\n",
    "            img = cv2.resize(img, (SIZE, SIZE))\n",
    "            img = img.astype('float32') / 255.0\n",
    "            color_img.append(img_to_array(img))\n",
    "color_dataset=tf.data.Dataset.from_tensor_slices(np.array(color_img[0:2000])).batch(1)\n",
    "gc.collect()\n",
    "\n",
    "gray_img = []\n",
    "path = 'E:/TER//landscape Images/gray'\n",
    "files = os.listdir(path)\n",
    "files = sorted_alphanumeric(files)\n",
    "for i in tqdm(files):\n",
    "         if i == '7200.jpg':\n",
    "            break\n",
    "         else: \n",
    "            img = cv2.imread(path + '/'+i,1)\n",
    "            img = cv2.cvtColor(img, cv2.COLOR_BGR2RGB)\n",
    "            #resizing image\n",
    "            img = cv2.resize(img, (SIZE, SIZE))\n",
    "            img = img.astype('float32') / 255.0\n",
    "            gray_img.append(img_to_array(img))\n",
    "gray_dataset=tf.data.Dataset.from_tensor_slices(np.array(gray_img[0:2000])).batch(1)\n",
    "gc.collect()"
   ]
  },
  {
   "cell_type": "code",
   "execution_count": 3,
   "metadata": {},
   "outputs": [],
   "source": [
    "generator = keras.models.load_model('E:/TER/model/generator_rgb.h5')\n",
    "#f = open('E:/TER/landscape Images/generator.txt', 'w')\n",
    "#清除文件中的内容\n",
    "#f.truncate()"
   ]
  },
  {
   "cell_type": "code",
   "execution_count": 4,
   "metadata": {},
   "outputs": [],
   "source": [
    "def generate_images(model, test_input, tar, n):\n",
    "  prediction = model(test_input, training=False)\n",
    "  #MAE = sum(tf.keras.losses.mean_absolute_error(tar[0], prediction[0]))\n",
    "  plt.figure(figsize=(15,5))\n",
    "  prediction = np.clip(np.array(prediction),0,1)\n",
    "  display_list = [test_input[0], tar[0], prediction[0]]\n",
    "  title = ['Input Image', 'Ground Truth', 'Predicted Image']\n",
    "  #strtemp = (\"Mean Absolute Error of\"+str(n)+\"is\"+str(MAE.numpy())+\"\\n\")\n",
    "  #f.write(strtemp)  \n",
    "  M = tf.keras.losses.MeanSquaredError()\n",
    "  MSE = M(tar[0], prediction[0])\n",
    "  for i in range(3):\n",
    "    plt.subplot(1, 3, i+1)\n",
    "    plt.title(title[i])\n",
    "    # getting the pixel values between [0, 1] to plot it.\n",
    "    plt.imshow(display_list[i])\n",
    "    plt.axis('off')\n",
    "  plt.suptitle(\"MSE: \"+str(MSE.numpy()),fontsize=20)\n",
    "  plt.savefig('E:/TER/Result_pix2pix_landscape_RGB/plot/'+str(n)+\".png\")\n",
    "  plt.imsave('E:/TER/Result_pix2pix_landscape_RGB/output/'+str(n)+\".png\", prediction[0])\n",
    "  plt.close()\n",
    "  #保存prediction为图片\n",
    "  #cv2.imwrite('E:/TER/landscape Images/output/prediction'+str(n)+'.jpg',prediction[0]*255)"
   ]
  },
  {
   "cell_type": "code",
   "execution_count": 5,
   "metadata": {},
   "outputs": [
    {
     "name": "stderr",
     "output_type": "stream",
     "text": [
      "100%|██████████| 7129/7129 [30:35<00:00,  3.88it/s]  \n"
     ]
    }
   ],
   "source": [
    "with tqdm(total=7129) as pbar: \n",
    "  color_dataset_t=tf.data.Dataset.from_tensor_slices(np.array(color_img[0:2000])).batch(1)\n",
    "  gray_dataset_t=tf.data.Dataset.from_tensor_slices(np.array(gray_img[0:2000])).batch(1)\n",
    "  n = 0\n",
    "  for example_input, example_target in tf.data.Dataset.zip((gray_dataset_t,color_dataset_t)):\n",
    "    generate_images(generator, example_input, example_target,n)\n",
    "    n = n + 1\n",
    "    pbar.update(1)\n",
    "  color_dataset_t=tf.data.Dataset.from_tensor_slices(np.array(color_img[2000:4000])).batch(1)\n",
    "  gray_dataset_t=tf.data.Dataset.from_tensor_slices(np.array(gray_img[2000:4000])).batch(1)\n",
    "  for example_input, example_target in tf.data.Dataset.zip((gray_dataset_t,color_dataset_t)):\n",
    "    generate_images(generator, example_input, example_target,n)\n",
    "    n = n + 1\n",
    "    pbar.update(1)\n",
    "  color_dataset_t=tf.data.Dataset.from_tensor_slices(np.array(color_img[4000:6000])).batch(1)\n",
    "  gray_dataset_t=tf.data.Dataset.from_tensor_slices(np.array(gray_img[4000:6000])).batch(1)\n",
    "  for example_input, example_target in tf.data.Dataset.zip((gray_dataset_t,color_dataset_t)):\n",
    "    generate_images(generator, example_input, example_target,n)\n",
    "    n = n + 1\n",
    "    pbar.update(1)\n",
    "  color_dataset_t=tf.data.Dataset.from_tensor_slices(np.array(color_img[6000:7129])).batch(1)\n",
    "  gray_dataset_t=tf.data.Dataset.from_tensor_slices(np.array(gray_img[6000:7129])).batch(1)\n",
    "  for example_input, example_target in tf.data.Dataset.zip((gray_dataset_t,color_dataset_t)):\n",
    "    generate_images(generator, example_input, example_target,n)\n",
    "    n = n + 1\n",
    "    pbar.update(1)\n",
    "#f.close()"
   ]
  }
 ],
 "metadata": {
  "kernelspec": {
   "display_name": "Python 3",
   "language": "python",
   "name": "python3"
  },
  "language_info": {
   "codemirror_mode": {
    "name": "ipython",
    "version": 3
   },
   "file_extension": ".py",
   "mimetype": "text/x-python",
   "name": "python",
   "nbconvert_exporter": "python",
   "pygments_lexer": "ipython3",
   "version": "3.9.13"
  },
  "orig_nbformat": 4
 },
 "nbformat": 4,
 "nbformat_minor": 2
}
