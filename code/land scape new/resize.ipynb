{
 "cells": [
  {
   "cell_type": "code",
   "execution_count": 1,
   "metadata": {},
   "outputs": [],
   "source": [
    "import os\n",
    "from tqdm import tqdm\n",
    "import cv2\n",
    "from keras.utils import img_to_array\n",
    "import re"
   ]
  },
  {
   "cell_type": "code",
   "execution_count": 2,
   "metadata": {},
   "outputs": [
    {
     "name": "stderr",
     "output_type": "stream",
     "text": [
      "100%|██████████| 4319/4319 [00:29<00:00, 145.76it/s]\n",
      "100%|██████████| 4319/4319 [00:24<00:00, 174.42it/s]\n"
     ]
    }
   ],
   "source": [
    "# to get the files in proper order\n",
    "def sorted_alphanumeric(data):  \n",
    "    convert = lambda text: int(text) if text.isdigit() else text.lower()\n",
    "    alphanum_key = lambda key: [convert(c) for c in re.split('([0-9]+)',key)]\n",
    "    return sorted(data,key = alphanum_key)\n",
    "# defining the size of the image\n",
    "SIZE = 256\n",
    "color_img = []\n",
    "path = 'C:/LandscapeData/Color'\n",
    "files = os.listdir(path)\n",
    "files = sorted_alphanumeric(files)\n",
    "for i in tqdm(files):    \n",
    "    if i == '7129.jpg':\n",
    "        break\n",
    "    else:    \n",
    "        img = cv2.imread(path + '/'+i,1)\n",
    "        # open cv reads images in BGR format so we have to convert it to RGB\n",
    "        #将图片居中裁剪为正方形\n",
    "        if img.shape[0] > img.shape[1]:\n",
    "            img = img[int((img.shape[0]-img.shape[1])/2):img.shape[1]+int((img.shape[0]-img.shape[1])/2), 0:img.shape[1]]\n",
    "        else:\n",
    "            img = img[0:img.shape[0], int((img.shape[1]-img.shape[0])/2):img.shape[0]+int((img.shape[1]-img.shape[0])/2)]\n",
    "        img = cv2.resize(img, (SIZE, SIZE))\n",
    "        cv2.imwrite('E:/TER/LandscapeDataResize/color/'+i,img)\n",
    "        img = img.astype('float32') / 255.0\n",
    "        color_img.append(img_to_array(img))\n",
    "\n",
    "\n",
    "gray_img = []\n",
    "path = 'C:/LandscapeData/gray'\n",
    "files = os.listdir(path)\n",
    "files = sorted_alphanumeric(files)\n",
    "for i in tqdm(files):\n",
    "     if i == '7129.jpg':\n",
    "        break\n",
    "     else: \n",
    "        img = cv2.imread(path + '/'+i,1)\n",
    "        #将图片居中裁剪为正方形\n",
    "        if img.shape[0] > img.shape[1]:\n",
    "            img = img[int((img.shape[0]-img.shape[1])/2):img.shape[1]+int((img.shape[0]-img.shape[1])/2), 0:img.shape[1]]\n",
    "        else:\n",
    "            img = img[0:img.shape[0], int((img.shape[1]-img.shape[0])/2):img.shape[0]+int((img.shape[1]-img.shape[0])/2)]\n",
    "        #resizing image\n",
    "        img = cv2.resize(img, (SIZE, SIZE))\n",
    "        cv2.imwrite('E:/TER/LandscapeDataResize/gray/'+i,img)\n",
    "        img = img.astype('float32') / 255.0\n",
    "        gray_img.append(img_to_array(img))"
   ]
  }
 ],
 "metadata": {
  "kernelspec": {
   "display_name": "Python 3",
   "language": "python",
   "name": "python3"
  },
  "language_info": {
   "codemirror_mode": {
    "name": "ipython",
    "version": 3
   },
   "file_extension": ".py",
   "mimetype": "text/x-python",
   "name": "python",
   "nbconvert_exporter": "python",
   "pygments_lexer": "ipython3",
   "version": "3.9.13"
  },
  "orig_nbformat": 4
 },
 "nbformat": 4,
 "nbformat_minor": 2
}
