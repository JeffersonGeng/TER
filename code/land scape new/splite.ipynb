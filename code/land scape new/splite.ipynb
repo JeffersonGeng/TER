{
 "cells": [
  {
   "cell_type": "code",
   "execution_count": 3,
   "metadata": {},
   "outputs": [
    {
     "data": {
      "text/plain": [
       "True"
      ]
     },
     "execution_count": 3,
     "metadata": {},
     "output_type": "execute_result"
    }
   ],
   "source": [
    "import cv2\n",
    "import numpy as np\n",
    "\n",
    "\n",
    "img = cv2.imread('E:/TER/LandscapeDataResize/color/118.jpg')\n",
    "imgr = np.array(img)\n",
    "imgg = np.array(img)\n",
    "imgb = np.array(img)\n",
    "#仅保留红色通道\n",
    "imgr[:,:,0] = 0\n",
    "imgr[:,:,1] = 0\n",
    "#仅保留绿色通道\n",
    "imgg[:,:,0] = 0\n",
    "imgg[:,:,2] = 0\n",
    "#仅保留蓝色通道\n",
    "imgb[:,:,1] = 0\n",
    "imgb[:,:,2] = 0\n",
    "#保存通道分离后的图片\n",
    "cv2.imwrite('E:/TER/output/118r.jpg',imgr)\n",
    "cv2.imwrite('E:/TER/output/118g.jpg',imgg)\n",
    "cv2.imwrite('E:/TER/output/118b.jpg',imgb)"
   ]
  }
 ],
 "metadata": {
  "kernelspec": {
   "display_name": "Python 3",
   "language": "python",
   "name": "python3"
  },
  "language_info": {
   "codemirror_mode": {
    "name": "ipython",
    "version": 3
   },
   "file_extension": ".py",
   "mimetype": "text/x-python",
   "name": "python",
   "nbconvert_exporter": "python",
   "pygments_lexer": "ipython3",
   "version": "3.9.13"
  },
  "orig_nbformat": 4
 },
 "nbformat": 4,
 "nbformat_minor": 2
}
