{
 "cells": [
  {
   "cell_type": "code",
   "execution_count": null,
   "metadata": {},
   "outputs": [],
   "source": [
    "#使用KNN与Tensor Flow进行图片着色\n",
    "#导入库\n",
    "import numpy as np\n",
    "import matplotlib.pyplot as plt\n",
    "import tensorflow as tf\n",
    "import os\n",
    "import cv2\n",
    "import random\n",
    "import pickle\n",
    "import time\n",
    "import glob\n",
    "from sklearn import datasets"
   ]
  },
  {
   "cell_type": "code",
   "execution_count": null,
   "metadata": {},
   "outputs": [],
   "source": [
    "distance = 1\n",
    "minImageIndex  = 1\n",
    "maxImageIndex  = 50"
   ]
  },
  {
   "cell_type": "code",
   "execution_count": null,
   "metadata": {},
   "outputs": [],
   "source": [
    "rgb_data = [cv2.imread(file, 1) for file in glob.glob('images/*source.png')]\n",
    "rgb_data_names = [file.split(',')[0].split('\\\\')[1] for file in glob.glob(\"images/*source.png\")][minImageIndex-1:maxImageIndex]\n",
    "train_data = [cv2.imread(file, 0) for file in glob.glob('images/*source.png')][minImageIndex-1:maxImageIndex]\n",
    "test_data = [cv2.imread(file, 0) for file in glob.glob('images/*target.png')][minImageIndex-1:maxImageIndex]\n",
    "accuracy_data = [cv2.imread(file, 1) for file in glob.glob('images/*groundtruth.png')][minImageIndex-1:maxImageIndex]"
   ]
  },
  {
   "cell_type": "markdown",
   "metadata": {},
   "source": [
    "source_dataset=tf.data.Dataset.from_tensor_slices(np.array(rgb_data)).batch(5)\n",
    "target_dataset=tf.data.Dataset.from_tensor_slices(np.array(test_data)).batch(5)\n",
    "groundtruth_dataset=tf.data.Dataset.from_tensor_slices(np.array(accuracy_data)).batch(5)\n",
    "train_dataset=tf.data.Dataset.from_tensor_slices(np.array(train_data)).batch(5)"
   ]
  },
  {
   "cell_type": "code",
   "execution_count": null,
   "metadata": {},
   "outputs": [],
   "source": [
    "f = open(\"ProjectTestImagesResults.txt\", \"w\")\n",
    "sess = tf.compat.v1.Session()\n",
    "outcome_prediction = sess.run(make_prediction, feed_dict={x_new_train: x_variable_train,\n",
    "                               x_new_test: x_variable_test,\n",
    "                               y_new_train: y_variable_train})\n"
   ]
  }
 ],
 "metadata": {
  "kernelspec": {
   "display_name": "Python 3",
   "language": "python",
   "name": "python3"
  },
  "language_info": {
   "name": "python",
   "version": "3.9.7"
  },
  "orig_nbformat": 4
 },
 "nbformat": 4,
 "nbformat_minor": 2
}
